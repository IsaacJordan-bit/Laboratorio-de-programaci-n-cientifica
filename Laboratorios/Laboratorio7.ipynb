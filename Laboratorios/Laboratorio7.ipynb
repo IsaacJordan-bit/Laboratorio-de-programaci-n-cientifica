{
  "cells": [
    {
      "cell_type": "markdown",
      "source": [
        "<h1><center>Laboratorio 7: La desperación de Mr. Lepin 🐼</center></h1>\n",
        "\n",
        "<center><strong>MDS7202: Laboratorio de Programación Científica para Ciencia de Datos</strong></center>"
      ],
      "metadata": {
        "id": "XUZ1dFPHzAHl",
        "cell_id": "8dd9b572c805487a9fb430fdc4ab12bb",
        "deepnote_cell_height": 156.26666259765625,
        "deepnote_cell_type": "markdown"
      }
    },
    {
      "cell_type": "markdown",
      "source": [
        "### Cuerpo Docente:\n",
        "\n",
        "- Profesor: Pablo Badilla, Ignacio Meza\n",
        "- Auxiliar: Sebastián Tinoco\n",
        "- Ayudante: Felipe Arias, Diego Cortez"
      ],
      "metadata": {
        "id": "UD8X1uhGzAHq",
        "cell_id": "d65413cd8566460dbceffcd13ca236e7",
        "deepnote_cell_type": "markdown"
      }
    },
    {
      "cell_type": "markdown",
      "source": [
        "### Equipo: SUPER IMPORTANTE - notebooks sin nombre no serán revisados\n",
        "\n",
        "- Nombre de alumno 1: Benjamín Farías\n",
        "- Nombre de alumno 2: Jordán Pérez\n"
      ],
      "metadata": {
        "id": "tXflExjqzAHr",
        "cell_id": "8e9217d02d124830a9b86046600a1605",
        "deepnote_cell_height": 172.13333129882812,
        "deepnote_cell_type": "markdown"
      }
    },
    {
      "cell_type": "markdown",
      "source": [
        "### **Link de repositorio de GitHub:** `https://github.com/IsaacJordan-bit/Laboratorio-de-programaci-n-cientifica`"
      ],
      "metadata": {
        "id": "AD-V0bbZzAHr",
        "cell_id": "010402b6d5f743b885a80d2e1c6ae11a",
        "deepnote_cell_height": 62.19999694824219,
        "deepnote_cell_type": "markdown"
      }
    },
    {
      "cell_type": "markdown",
      "source": [
        "### Indice \n",
        "\n",
        "1. [Temas a tratar](#Temas-a-tratar:)\n",
        "3. [Descripción del laboratorio](#Descripción-del-laboratorio.)\n",
        "4. [Desarrollo](#Desarrollo)"
      ],
      "metadata": {
        "id": "EcnsiQMkzAHr",
        "cell_id": "3abfe63b97c946e5ba1d4061b08e7913",
        "deepnote_cell_height": 165.06666564941406,
        "deepnote_cell_type": "markdown"
      }
    },
    {
      "cell_type": "markdown",
      "source": [
        "# Temas a tratar\n",
        "\n",
        "- Aplicar Pandas para obtener características de un DataFrame.\n",
        "- Aplicar Pipelines.\n",
        "- Aplicar Clusters sobre un conjunto de datos.\n",
        "\n",
        "## Reglas:\n",
        "\n",
        "- **Grupos de 2 personas**\n",
        "- Asistencia **obligatoria** a instrucciones del lab (viernes 16.15). Luego, pueden quedarse trabajando en las salas o irse.\n",
        "- **No se revisarán entregas de personas ausentes**. \n",
        "- Cualquier duda fuera del horario de clases al foro. Mensajes al equipo docente serán respondidos por este medio.\n",
        "- Prohibidas las copias. \n",
        "- Pueden usar cualquer matrial del curso que estimen conveniente.\n",
        "- Código que no se pueda ejecutar, no será revisado.\n",
        "\n",
        "### Objetivos principales del laboratorio\n",
        "\n",
        "- Comprender y aprovechar las ventajas que nos ofrece la librería `pandas` con respecto a trabajar en Python 'puro'.\n",
        "- Crear nuevas características para entrenar un modelo de clustering.\n",
        "- Comprender como aplicar pipelines de Scikit-Learn para generar procesos más limpios.\n",
        "\n",
        "El laboratorio deberá ser desarrollado sin el uso indiscriminado de iteradores nativos de python (aka \"for\", \"while\"). La idea es que aprendan a exprimir al máximo las funciones optimizadas que nos entrega `numpy`, las cuales vale mencionar, son bastante más eficientes que los iteradores nativos sobre arreglos (*o tensores*)."
      ],
      "metadata": {
        "id": "6uBLPj1PzAHs",
        "cell_id": "ef0224c7a99e4b718b55493b0a1e99c4",
        "deepnote_cell_height": 724.9000244140625,
        "deepnote_cell_type": "markdown"
      }
    },
    {
      "cell_type": "markdown",
      "source": [
        "## Descripción del laboratorio."
      ],
      "metadata": {
        "id": "wrG4gYabzAHs",
        "cell_id": "59664481c26f4ac4a753765269b1db6a",
        "deepnote_cell_height": 69.86666870117188,
        "deepnote_cell_type": "markdown"
      }
    },
    {
      "cell_type": "markdown",
      "source": [
        "### Importamos librerias utiles 😸"
      ],
      "metadata": {
        "id": "MhISwri4zAHy",
        "cell_id": "8c7bf8ea553d44c7a2efd61106a0bac2",
        "deepnote_cell_height": 61.866668701171875,
        "deepnote_cell_type": "markdown"
      }
    },
    {
      "cell_type": "code",
      "source": [
        "# Libreria Core del lab.\n",
        "import numpy as np\n",
        "import pandas as pd\n",
        "import datetime\n",
        "from IPython.display import HTML\n",
        "\n",
        "# Libreria para plotear (En colab esta desactualizado plotly)\n",
        "!pip install --upgrade plotly\n",
        "import plotly.express as px\n",
        "import plotly.graph_objects as go\n",
        "import matplotlib.pyplot as plt\n",
        "\n",
        "# Librerias utiles\n",
        "from sklearn.manifold import TSNE\n",
        "from sklearn.cluster import KMeans\n",
        "from sklearn.base import BaseEstimator, TransformerMixin\n",
        "from sklearn.model_selection import train_test_split \n",
        "from sklearn.pipeline import Pipeline\n",
        "from sklearn.compose import ColumnTransformer\n",
        "from sklearn.preprocessing import FunctionTransformer"
      ],
      "metadata": {
        "id": "uyc33dKdzAHy",
        "colab": {
          "base_uri": "https://localhost:8080/"
        },
        "cell_id": "67b4b29f0e6b48719b58d579276f2b19",
        "outputId": "cf25cdfb-512c-4906-9945-bdfc0fe7ba25",
        "ExecuteTime": {
          "end_time": "2021-03-29T00:08:16.884674Z",
          "start_time": "2021-03-29T00:08:16.349846Z"
        },
        "source_hash": "a3741fd5",
        "execution_start": 1635469788590,
        "execution_millis": 8517,
        "deepnote_cell_height": 514.13330078125,
        "deepnote_to_be_reexecuted": false,
        "deepnote_cell_type": "code"
      },
      "outputs": [
        {
          "output_type": "stream",
          "name": "stdout",
          "text": [
            "Looking in indexes: https://pypi.org/simple, https://us-python.pkg.dev/colab-wheels/public/simple/\n",
            "Requirement already satisfied: plotly in /usr/local/lib/python3.10/dist-packages (5.13.1)\n",
            "Collecting plotly\n",
            "  Downloading plotly-5.14.1-py2.py3-none-any.whl (15.3 MB)\n",
            "\u001b[2K     \u001b[90m━━━━━━━━━━━━━━━━━━━━━━━━━━━━━━━━━━━━━━━━\u001b[0m \u001b[32m15.3/15.3 MB\u001b[0m \u001b[31m48.5 MB/s\u001b[0m eta \u001b[36m0:00:00\u001b[0m\n",
            "\u001b[?25hRequirement already satisfied: tenacity>=6.2.0 in /usr/local/lib/python3.10/dist-packages (from plotly) (8.2.2)\n",
            "Requirement already satisfied: packaging in /usr/local/lib/python3.10/dist-packages (from plotly) (23.1)\n",
            "Installing collected packages: plotly\n",
            "  Attempting uninstall: plotly\n",
            "    Found existing installation: plotly 5.13.1\n",
            "    Uninstalling plotly-5.13.1:\n",
            "      Successfully uninstalled plotly-5.13.1\n",
            "Successfully installed plotly-5.14.1\n"
          ]
        }
      ],
      "execution_count": 5
    },
    {
      "cell_type": "code",
      "source": [
        "# Si usted está utilizando Colabolatory le puede ser útil este código para cargar los archivos.\n",
        "try:\n",
        "    from google.colab import drive\n",
        "    drive.mount(\"/content/drive\")\n",
        "    path = '/content/drive/MyDrive/Noveno semestre/Laboratorio de programación/lab7/online_retail_II_cleaned.pickle'\n",
        "except: \n",
        "    print('Ignorando conexión drive-colab')"
      ],
      "metadata": {
        "id": "gQ0-zPV4NNrq",
        "cell_id": "ce6a19ec6fc6486e832760ac3740d7ef",
        "source_hash": "c60dc4a7",
        "execution_start": 1635165625274,
        "execution_millis": 7,
        "deepnote_cell_height": 219.46665954589844,
        "deepnote_to_be_reexecuted": false,
        "deepnote_cell_type": "code",
        "colab": {
          "base_uri": "https://localhost:8080/"
        },
        "outputId": "277b123c-bc3e-4c91-d026-e7d75e50332d"
      },
      "outputs": [
        {
          "output_type": "stream",
          "name": "stdout",
          "text": [
            "Drive already mounted at /content/drive; to attempt to forcibly remount, call drive.mount(\"/content/drive\", force_remount=True).\n"
          ]
        }
      ],
      "execution_count": 3
    },
    {
      "cell_type": "markdown",
      "source": [
        "# Segmentación de Clientes en Tienda de Retail 🛍️"
      ],
      "metadata": {
        "id": "QDwIXTh7bK_A",
        "cell_id": "28c7a8b483d84878ac5a4f7ba882b711",
        "owner_user_id": "badcc427-fd3d-4615-9296-faa43ec69cfb",
        "deepnote_cell_height": 133.86666870117188,
        "deepnote_cell_type": "markdown"
      }
    },
    {
      "cell_type": "markdown",
      "source": [
        "<p align=\"center\">\n",
        "  <img width=300 src=\"https://s1.eestatic.com/2018/04/14/social/la_jungla_-_social_299733421_73842361_854x640.jpg\">\n",
        "</p>"
      ],
      "metadata": {
        "tags": [],
        "cell_id": "6c6799ecc9e74272922d46a3b5a8b79e",
        "deepnote_cell_height": 294.683349609375,
        "deepnote_cell_type": "markdown",
        "id": "fmM31B0LKyOy"
      }
    },
    {
      "cell_type": "markdown",
      "source": [
        "## 1.1 Cargar Dataset"
      ],
      "metadata": {
        "tags": [],
        "cell_id": "160bb2695f6547448bfb0f99420f952c",
        "deepnote_cell_height": 69.86666870117188,
        "deepnote_cell_type": "markdown",
        "id": "RIgNP0k1KyOy"
      }
    },
    {
      "cell_type": "markdown",
      "source": [
        "Mr. Lepin, en una nueva reunión, le cuenta a ud y su equipo que los resultados derivados del análisis exploratorio de dato presentaron una gran utilidad para la empresa y que tiene un gran entusiasmo por continuar trabajando con ustedes.\n",
        "Es por esto, que Mr. Lepin les pide que cargue y visualicen algunas de las filas que componen el Dataset.\n",
        "A continuación un extracto de lo parlamentado en la reunión:\n",
        "\n",
        "    - Usted: Es un gran logro para nuestro equipo que usted haya encontrado excelente el EDA. ¿Qué tiene en mente ahora?\n",
        "    - Mr. Lepin: Resulta que hace algún tiempo, mientras tomaba un mojito en una reunión de gerentes en Panamá, oí a un *chato* acerca de **LRMFP**, que es un modelo que permite personificar a los clientes a través de la fabricación de distintos atributos que describen a los clientes. Lo encontré es-tu-pendo ñatito. \n",
        "    - Usted: Ehh bueno. Investigaremos acerca de este modelo y veremos lo que podemos hacer.\n",
        "\n",
        "Por ende, su siguiente tarea es calcular **LRMFP** sobre cada cliente y luego hacer un análisis de las características generadas. Para esto, el área de ventas les entrega un nuevo archivo llamado `online_retail_II_cleaned.pickle`, quien posee los datos del DataFrame original limpios y listos para obtener las características solicitadas por Mr. Lepin."
      ],
      "metadata": {
        "tags": [],
        "cell_id": "48d29c89e3b6455083f8fac764f97f3b",
        "deepnote_cell_height": 475.066650390625,
        "deepnote_cell_type": "markdown",
        "id": "S37aoii_KyOz"
      }
    },
    {
      "cell_type": "code",
      "source": [
        "df_retail = pd.read_pickle(path)\n",
        "df_retail = df_retail.astype(\n",
        "    {\n",
        "        \"Invoice\": \"category\",\n",
        "        \"StockCode\": \"category\",\n",
        "        \"Description\": \"category\",\n",
        "        \"Description\": str,\n",
        "        \"Customer ID\": \"category\",\n",
        "        \"Country\": \"category\"\n",
        "    }\n",
        ")\n",
        "df_retail.head()\n"
      ],
      "metadata": {
        "id": "7FNOu-CvjV5m",
        "colab": {
          "height": 354,
          "base_uri": "https://localhost:8080/"
        },
        "cell_id": "4d7d0f0855744e6c9d5a2198e5dcd690",
        "outputId": "4f56cb2d-032a-48e8-9ea9-dc296ea23878",
        "source_hash": "d52b246c",
        "execution_start": 1635469797118,
        "execution_millis": 466,
        "deepnote_cell_height": 489.79998779296875,
        "deepnote_output_heights": [
          177
        ],
        "deepnote_to_be_reexecuted": false,
        "deepnote_cell_type": "code"
      },
      "outputs": [
        {
          "output_type": "execute_result",
          "data": {
            "text/plain": [
              "  Invoice StockCode                          Description  Quantity  \\\n",
              "0  489434     85048  15CM CHRISTMAS GLASS BALL 20 LIGHTS        12   \n",
              "1  489434    79323P                   PINK CHERRY LIGHTS        12   \n",
              "2  489434    79323W                  WHITE CHERRY LIGHTS        12   \n",
              "3  489434     22041         RECORD FRAME 7\" SINGLE SIZE         48   \n",
              "4  489434     21232       STRAWBERRY CERAMIC TRINKET BOX        24   \n",
              "\n",
              "          InvoiceDate  Price Customer ID         Country  \n",
              "0 2009-12-01 07:45:00   6.95     13085.0  United Kingdom  \n",
              "1 2009-12-01 07:45:00   6.75     13085.0  United Kingdom  \n",
              "2 2009-12-01 07:45:00   6.75     13085.0  United Kingdom  \n",
              "3 2009-12-01 07:45:00   2.10     13085.0  United Kingdom  \n",
              "4 2009-12-01 07:45:00   1.25     13085.0  United Kingdom  "
            ],
            "text/html": [
              "\n",
              "  <div id=\"df-545ea0dc-514b-47a6-ac97-d3ea3b4b4b54\">\n",
              "    <div class=\"colab-df-container\">\n",
              "      <div>\n",
              "<style scoped>\n",
              "    .dataframe tbody tr th:only-of-type {\n",
              "        vertical-align: middle;\n",
              "    }\n",
              "\n",
              "    .dataframe tbody tr th {\n",
              "        vertical-align: top;\n",
              "    }\n",
              "\n",
              "    .dataframe thead th {\n",
              "        text-align: right;\n",
              "    }\n",
              "</style>\n",
              "<table border=\"1\" class=\"dataframe\">\n",
              "  <thead>\n",
              "    <tr style=\"text-align: right;\">\n",
              "      <th></th>\n",
              "      <th>Invoice</th>\n",
              "      <th>StockCode</th>\n",
              "      <th>Description</th>\n",
              "      <th>Quantity</th>\n",
              "      <th>InvoiceDate</th>\n",
              "      <th>Price</th>\n",
              "      <th>Customer ID</th>\n",
              "      <th>Country</th>\n",
              "    </tr>\n",
              "  </thead>\n",
              "  <tbody>\n",
              "    <tr>\n",
              "      <th>0</th>\n",
              "      <td>489434</td>\n",
              "      <td>85048</td>\n",
              "      <td>15CM CHRISTMAS GLASS BALL 20 LIGHTS</td>\n",
              "      <td>12</td>\n",
              "      <td>2009-12-01 07:45:00</td>\n",
              "      <td>6.95</td>\n",
              "      <td>13085.0</td>\n",
              "      <td>United Kingdom</td>\n",
              "    </tr>\n",
              "    <tr>\n",
              "      <th>1</th>\n",
              "      <td>489434</td>\n",
              "      <td>79323P</td>\n",
              "      <td>PINK CHERRY LIGHTS</td>\n",
              "      <td>12</td>\n",
              "      <td>2009-12-01 07:45:00</td>\n",
              "      <td>6.75</td>\n",
              "      <td>13085.0</td>\n",
              "      <td>United Kingdom</td>\n",
              "    </tr>\n",
              "    <tr>\n",
              "      <th>2</th>\n",
              "      <td>489434</td>\n",
              "      <td>79323W</td>\n",
              "      <td>WHITE CHERRY LIGHTS</td>\n",
              "      <td>12</td>\n",
              "      <td>2009-12-01 07:45:00</td>\n",
              "      <td>6.75</td>\n",
              "      <td>13085.0</td>\n",
              "      <td>United Kingdom</td>\n",
              "    </tr>\n",
              "    <tr>\n",
              "      <th>3</th>\n",
              "      <td>489434</td>\n",
              "      <td>22041</td>\n",
              "      <td>RECORD FRAME 7\" SINGLE SIZE</td>\n",
              "      <td>48</td>\n",
              "      <td>2009-12-01 07:45:00</td>\n",
              "      <td>2.10</td>\n",
              "      <td>13085.0</td>\n",
              "      <td>United Kingdom</td>\n",
              "    </tr>\n",
              "    <tr>\n",
              "      <th>4</th>\n",
              "      <td>489434</td>\n",
              "      <td>21232</td>\n",
              "      <td>STRAWBERRY CERAMIC TRINKET BOX</td>\n",
              "      <td>24</td>\n",
              "      <td>2009-12-01 07:45:00</td>\n",
              "      <td>1.25</td>\n",
              "      <td>13085.0</td>\n",
              "      <td>United Kingdom</td>\n",
              "    </tr>\n",
              "  </tbody>\n",
              "</table>\n",
              "</div>\n",
              "      <button class=\"colab-df-convert\" onclick=\"convertToInteractive('df-545ea0dc-514b-47a6-ac97-d3ea3b4b4b54')\"\n",
              "              title=\"Convert this dataframe to an interactive table.\"\n",
              "              style=\"display:none;\">\n",
              "        \n",
              "  <svg xmlns=\"http://www.w3.org/2000/svg\" height=\"24px\"viewBox=\"0 0 24 24\"\n",
              "       width=\"24px\">\n",
              "    <path d=\"M0 0h24v24H0V0z\" fill=\"none\"/>\n",
              "    <path d=\"M18.56 5.44l.94 2.06.94-2.06 2.06-.94-2.06-.94-.94-2.06-.94 2.06-2.06.94zm-11 1L8.5 8.5l.94-2.06 2.06-.94-2.06-.94L8.5 2.5l-.94 2.06-2.06.94zm10 10l.94 2.06.94-2.06 2.06-.94-2.06-.94-.94-2.06-.94 2.06-2.06.94z\"/><path d=\"M17.41 7.96l-1.37-1.37c-.4-.4-.92-.59-1.43-.59-.52 0-1.04.2-1.43.59L10.3 9.45l-7.72 7.72c-.78.78-.78 2.05 0 2.83L4 21.41c.39.39.9.59 1.41.59.51 0 1.02-.2 1.41-.59l7.78-7.78 2.81-2.81c.8-.78.8-2.07 0-2.86zM5.41 20L4 18.59l7.72-7.72 1.47 1.35L5.41 20z\"/>\n",
              "  </svg>\n",
              "      </button>\n",
              "      \n",
              "  <style>\n",
              "    .colab-df-container {\n",
              "      display:flex;\n",
              "      flex-wrap:wrap;\n",
              "      gap: 12px;\n",
              "    }\n",
              "\n",
              "    .colab-df-convert {\n",
              "      background-color: #E8F0FE;\n",
              "      border: none;\n",
              "      border-radius: 50%;\n",
              "      cursor: pointer;\n",
              "      display: none;\n",
              "      fill: #1967D2;\n",
              "      height: 32px;\n",
              "      padding: 0 0 0 0;\n",
              "      width: 32px;\n",
              "    }\n",
              "\n",
              "    .colab-df-convert:hover {\n",
              "      background-color: #E2EBFA;\n",
              "      box-shadow: 0px 1px 2px rgba(60, 64, 67, 0.3), 0px 1px 3px 1px rgba(60, 64, 67, 0.15);\n",
              "      fill: #174EA6;\n",
              "    }\n",
              "\n",
              "    [theme=dark] .colab-df-convert {\n",
              "      background-color: #3B4455;\n",
              "      fill: #D2E3FC;\n",
              "    }\n",
              "\n",
              "    [theme=dark] .colab-df-convert:hover {\n",
              "      background-color: #434B5C;\n",
              "      box-shadow: 0px 1px 3px 1px rgba(0, 0, 0, 0.15);\n",
              "      filter: drop-shadow(0px 1px 2px rgba(0, 0, 0, 0.3));\n",
              "      fill: #FFFFFF;\n",
              "    }\n",
              "  </style>\n",
              "\n",
              "      <script>\n",
              "        const buttonEl =\n",
              "          document.querySelector('#df-545ea0dc-514b-47a6-ac97-d3ea3b4b4b54 button.colab-df-convert');\n",
              "        buttonEl.style.display =\n",
              "          google.colab.kernel.accessAllowed ? 'block' : 'none';\n",
              "\n",
              "        async function convertToInteractive(key) {\n",
              "          const element = document.querySelector('#df-545ea0dc-514b-47a6-ac97-d3ea3b4b4b54');\n",
              "          const dataTable =\n",
              "            await google.colab.kernel.invokeFunction('convertToInteractive',\n",
              "                                                     [key], {});\n",
              "          if (!dataTable) return;\n",
              "\n",
              "          const docLinkHtml = 'Like what you see? Visit the ' +\n",
              "            '<a target=\"_blank\" href=https://colab.research.google.com/notebooks/data_table.ipynb>data table notebook</a>'\n",
              "            + ' to learn more about interactive tables.';\n",
              "          element.innerHTML = '';\n",
              "          dataTable['output_type'] = 'display_data';\n",
              "          await google.colab.output.renderOutput(dataTable, element);\n",
              "          const docLink = document.createElement('div');\n",
              "          docLink.innerHTML = docLinkHtml;\n",
              "          element.appendChild(docLink);\n",
              "        }\n",
              "      </script>\n",
              "    </div>\n",
              "  </div>\n",
              "  "
            ]
          },
          "metadata": {},
          "execution_count": 6
        }
      ],
      "execution_count": 6
    },
    {
      "cell_type": "markdown",
      "source": [
        "## 1.2 Creación de nuevas Caracteristicas [2 Puntos] "
      ],
      "metadata": {
        "tags": [],
        "cell_id": "060e1885d93d4325a313fded82de1921",
        "deepnote_cell_height": 109.86666870117188,
        "deepnote_cell_type": "markdown",
        "id": "Uv17Jz21KyOz"
      }
    },
    {
      "cell_type": "markdown",
      "source": [
        "Como ya se les comento, Mr. Lepin esta interesado en obtener las características **LRMFP**, para esto les señala que estas características se construyen en base a las siguientes definiciones:\n",
        "\n",
        "- **Length (L)**: Intervalo de tiempo, en días, entre la primera y la última visita del cliente. Mientras mas grande sea el valor, mas fiel es el cliente.\n",
        "\n",
        "- **Recency (R)**: Indica hace cuanto tiempo el cliente realizo su ultima compra. Notar que para este caso, mientras mas grande es el valor, menos interes posee el usuario para repetir una compra en uno de los locales.\n",
        "\n",
        "- **Monetary (M)**: El término \"monetario\" se refiere a la cantidad media de dinero gastada por cada visita del cliente durante el período de observación y refleja la contribución del cliente a los ingresos de la empresa.\n",
        "\n",
        "- **Frequency (F)**: Se refiere al número total de visitas del cliente durante el periodo de observación. Cuanto mayor sea la frecuencia, mayor será la fidelidad del cliente. \n",
        "\n",
        "- **Periodicity (P)**: Representa si los clientes visitan las tiendas con regularidad.\n",
        "\n",
        "$$Periodicity(n)=std(IVT_1, ..., IVT_n)$$\n",
        "\n",
        "&nbsp;&nbsp; &nbsp;&nbsp;&nbsp;&nbsp;&nbsp;&nbsp;Donde $IVT$ denota el tiempo entre visitas y n representa el número de valores de tiempo entre visitas de un cliente.\n",
        " \n",
        "\n",
        "$$IVT_i=date\\_diff(t_{i+1},t)$$\n",
        "\n",
        "En base a las definiciones señaladas, diseñe una función que permita obtener las características **LRMFP** recibiendo un DataFrame como entrada. Para esto, no estará permitido el uso de iteradores, utilice todas las herramientas que les ofrece `pandas` para realizar esto.\n",
        "\n",
        "Una referencia que le puede ser útil es el [documento original](https://www.researchgate.net/publication/315979555_LRFMP_model_for_customer_segmentation_in_the_grocery_retail_industry_a_case_study) en donde se propone este método."
      ],
      "metadata": {
        "tags": [],
        "cell_id": "e650f364c9c64b079603f6d9312d2d13",
        "deepnote_cell_height": 862.933349609375,
        "deepnote_cell_type": "markdown",
        "id": "bIvk3OqRKyOz"
      }
    },
    {
      "cell_type": "markdown",
      "source": [
        "**Ejemplo de Resultado Esperado:**\n",
        "\n",
        "| Customer ID | Length | Recency | Frequency | Monetary | Periodicity |\n",
        "|------------:|-------:|--------:|----------:|---------:|------------:|\n",
        "|   12346.0   |    294 |      67 |        46 |   -64.68 |        37.0 |\n",
        "|   12347.0   |     37 |       3 |        71 |  1323.32 |         0.0 |\n",
        "|   12349.0   |    327 |      43 |       107 |  2646.99 |        78.0 |\n",
        "|   12352.0   |     16 |      11 |        18 |   343.80 |         0.0 |\n",
        "|   12356.0   |     44 |      16 |        84 |  3562.25 |        12.0 |"
      ],
      "metadata": {
        "tags": [],
        "cell_id": "bee8d549c7c043a5b0cafae0543afadf",
        "deepnote_cell_height": 212.6666717529297,
        "deepnote_cell_type": "markdown",
        "id": "igPCk3XkKyO0"
      }
    },
    {
      "cell_type": "markdown",
      "source": [
        "**Respuesta:**"
      ],
      "metadata": {
        "tags": [],
        "cell_id": "3c7f8a4a06a44cbd8d50e8a4decf4c71",
        "deepnote_cell_height": 52.26666259765625,
        "deepnote_cell_type": "markdown",
        "id": "84i_ITWAKyO0"
      }
    },
    {
      "cell_type": "code",
      "source": [
        "def ivete(x):\n",
        "    x = x.to_numpy()\n",
        "    d = (x[1:] - x[:len(x)-1]).astype('timedelta64[D]') / np.timedelta64(1, 'D')\n",
        "    if len(d) == 0:\n",
        "        return 0\n",
        "    return np.std(d)\n",
        "\n",
        "def custom_features(df):\n",
        "    cdf = pd.DataFrame()\n",
        "    gdf = df.groupby('Customer ID')\n",
        "\n",
        "    cdf['Lenght'] = gdf.InvoiceDate.apply(lambda x: (x.max()-x.min()).days)\n",
        "    cdf['Recency'] = gdf.InvoiceDate.apply(lambda x: (pd.Timestamp.today()-x.max()).days)\n",
        "    cdf['Monetary'] = gdf.Price.mean()\n",
        "    cdf['Frequency'] = gdf.Price.apply(len)\n",
        "    #cdf['Periodicity'] = gdf.InvoiceDate.apply(lambda x: np.std([(x.iloc[i]-x.iloc[i-1]).days for i in range(1, len(x))] + [0]*(2-min(len(x), 2))))\n",
        "    cdf['Periodicity'] = gdf.InvoiceDate.apply(ivete)\n",
        "\n",
        "    return cdf"
      ],
      "metadata": {
        "tags": [],
        "cell_id": "39a8b98eacdc43a4bdfeaa138b746198",
        "owner_user_id": "8c58f50a-7a08-41a2-952e-38bdb7507048",
        "deepnote_cell_height": 83.86666870117188,
        "deepnote_cell_type": "code",
        "id": "hWmh_aO1KyO0"
      },
      "outputs": [],
      "execution_count": 7
    },
    {
      "cell_type": "code",
      "source": [
        "df = custom_features(df_retail)"
      ],
      "metadata": {
        "id": "07feLswjdbnM"
      },
      "execution_count": 8,
      "outputs": []
    },
    {
      "cell_type": "code",
      "source": [
        "df"
      ],
      "metadata": {
        "colab": {
          "base_uri": "https://localhost:8080/",
          "height": 455
        },
        "id": "bo4lKbQndgtf",
        "outputId": "dad94ba4-ffa9-4637-b9a6-9044c435f0c2"
      },
      "execution_count": 9,
      "outputs": [
        {
          "output_type": "execute_result",
          "data": {
            "text/plain": [
              "             Lenght  Recency  Monetary  Frequency  Periodicity\n",
              "Customer ID                                                   \n",
              "12346.0         196     4722  6.253333         33    21.381943\n",
              "12347.0          37     4560  2.295070         71     4.390644\n",
              "12348.0           0     4631  0.719500         20     0.000000\n",
              "12349.0         181     4600  8.581765        102    16.120588\n",
              "12351.0           0     4568  2.355238         21     0.000000\n",
              "...             ...      ...       ...        ...          ...\n",
              "18283.0         275     4575  2.199401        217    11.756393\n",
              "18284.0           0     4624  3.253214         28     0.000000\n",
              "18285.0           0     4853  8.350000         12     0.000000\n",
              "18286.0         247     4669  4.273134         67    30.172389\n",
              "18287.0         188     4575  2.844588         85    15.208565\n",
              "\n",
              "[4314 rows x 5 columns]"
            ],
            "text/html": [
              "\n",
              "  <div id=\"df-c2d85057-e229-4cd4-84a1-bda52ef9acaf\">\n",
              "    <div class=\"colab-df-container\">\n",
              "      <div>\n",
              "<style scoped>\n",
              "    .dataframe tbody tr th:only-of-type {\n",
              "        vertical-align: middle;\n",
              "    }\n",
              "\n",
              "    .dataframe tbody tr th {\n",
              "        vertical-align: top;\n",
              "    }\n",
              "\n",
              "    .dataframe thead th {\n",
              "        text-align: right;\n",
              "    }\n",
              "</style>\n",
              "<table border=\"1\" class=\"dataframe\">\n",
              "  <thead>\n",
              "    <tr style=\"text-align: right;\">\n",
              "      <th></th>\n",
              "      <th>Lenght</th>\n",
              "      <th>Recency</th>\n",
              "      <th>Monetary</th>\n",
              "      <th>Frequency</th>\n",
              "      <th>Periodicity</th>\n",
              "    </tr>\n",
              "    <tr>\n",
              "      <th>Customer ID</th>\n",
              "      <th></th>\n",
              "      <th></th>\n",
              "      <th></th>\n",
              "      <th></th>\n",
              "      <th></th>\n",
              "    </tr>\n",
              "  </thead>\n",
              "  <tbody>\n",
              "    <tr>\n",
              "      <th>12346.0</th>\n",
              "      <td>196</td>\n",
              "      <td>4722</td>\n",
              "      <td>6.253333</td>\n",
              "      <td>33</td>\n",
              "      <td>21.381943</td>\n",
              "    </tr>\n",
              "    <tr>\n",
              "      <th>12347.0</th>\n",
              "      <td>37</td>\n",
              "      <td>4560</td>\n",
              "      <td>2.295070</td>\n",
              "      <td>71</td>\n",
              "      <td>4.390644</td>\n",
              "    </tr>\n",
              "    <tr>\n",
              "      <th>12348.0</th>\n",
              "      <td>0</td>\n",
              "      <td>4631</td>\n",
              "      <td>0.719500</td>\n",
              "      <td>20</td>\n",
              "      <td>0.000000</td>\n",
              "    </tr>\n",
              "    <tr>\n",
              "      <th>12349.0</th>\n",
              "      <td>181</td>\n",
              "      <td>4600</td>\n",
              "      <td>8.581765</td>\n",
              "      <td>102</td>\n",
              "      <td>16.120588</td>\n",
              "    </tr>\n",
              "    <tr>\n",
              "      <th>12351.0</th>\n",
              "      <td>0</td>\n",
              "      <td>4568</td>\n",
              "      <td>2.355238</td>\n",
              "      <td>21</td>\n",
              "      <td>0.000000</td>\n",
              "    </tr>\n",
              "    <tr>\n",
              "      <th>...</th>\n",
              "      <td>...</td>\n",
              "      <td>...</td>\n",
              "      <td>...</td>\n",
              "      <td>...</td>\n",
              "      <td>...</td>\n",
              "    </tr>\n",
              "    <tr>\n",
              "      <th>18283.0</th>\n",
              "      <td>275</td>\n",
              "      <td>4575</td>\n",
              "      <td>2.199401</td>\n",
              "      <td>217</td>\n",
              "      <td>11.756393</td>\n",
              "    </tr>\n",
              "    <tr>\n",
              "      <th>18284.0</th>\n",
              "      <td>0</td>\n",
              "      <td>4624</td>\n",
              "      <td>3.253214</td>\n",
              "      <td>28</td>\n",
              "      <td>0.000000</td>\n",
              "    </tr>\n",
              "    <tr>\n",
              "      <th>18285.0</th>\n",
              "      <td>0</td>\n",
              "      <td>4853</td>\n",
              "      <td>8.350000</td>\n",
              "      <td>12</td>\n",
              "      <td>0.000000</td>\n",
              "    </tr>\n",
              "    <tr>\n",
              "      <th>18286.0</th>\n",
              "      <td>247</td>\n",
              "      <td>4669</td>\n",
              "      <td>4.273134</td>\n",
              "      <td>67</td>\n",
              "      <td>30.172389</td>\n",
              "    </tr>\n",
              "    <tr>\n",
              "      <th>18287.0</th>\n",
              "      <td>188</td>\n",
              "      <td>4575</td>\n",
              "      <td>2.844588</td>\n",
              "      <td>85</td>\n",
              "      <td>15.208565</td>\n",
              "    </tr>\n",
              "  </tbody>\n",
              "</table>\n",
              "<p>4314 rows × 5 columns</p>\n",
              "</div>\n",
              "      <button class=\"colab-df-convert\" onclick=\"convertToInteractive('df-c2d85057-e229-4cd4-84a1-bda52ef9acaf')\"\n",
              "              title=\"Convert this dataframe to an interactive table.\"\n",
              "              style=\"display:none;\">\n",
              "        \n",
              "  <svg xmlns=\"http://www.w3.org/2000/svg\" height=\"24px\"viewBox=\"0 0 24 24\"\n",
              "       width=\"24px\">\n",
              "    <path d=\"M0 0h24v24H0V0z\" fill=\"none\"/>\n",
              "    <path d=\"M18.56 5.44l.94 2.06.94-2.06 2.06-.94-2.06-.94-.94-2.06-.94 2.06-2.06.94zm-11 1L8.5 8.5l.94-2.06 2.06-.94-2.06-.94L8.5 2.5l-.94 2.06-2.06.94zm10 10l.94 2.06.94-2.06 2.06-.94-2.06-.94-.94-2.06-.94 2.06-2.06.94z\"/><path d=\"M17.41 7.96l-1.37-1.37c-.4-.4-.92-.59-1.43-.59-.52 0-1.04.2-1.43.59L10.3 9.45l-7.72 7.72c-.78.78-.78 2.05 0 2.83L4 21.41c.39.39.9.59 1.41.59.51 0 1.02-.2 1.41-.59l7.78-7.78 2.81-2.81c.8-.78.8-2.07 0-2.86zM5.41 20L4 18.59l7.72-7.72 1.47 1.35L5.41 20z\"/>\n",
              "  </svg>\n",
              "      </button>\n",
              "      \n",
              "  <style>\n",
              "    .colab-df-container {\n",
              "      display:flex;\n",
              "      flex-wrap:wrap;\n",
              "      gap: 12px;\n",
              "    }\n",
              "\n",
              "    .colab-df-convert {\n",
              "      background-color: #E8F0FE;\n",
              "      border: none;\n",
              "      border-radius: 50%;\n",
              "      cursor: pointer;\n",
              "      display: none;\n",
              "      fill: #1967D2;\n",
              "      height: 32px;\n",
              "      padding: 0 0 0 0;\n",
              "      width: 32px;\n",
              "    }\n",
              "\n",
              "    .colab-df-convert:hover {\n",
              "      background-color: #E2EBFA;\n",
              "      box-shadow: 0px 1px 2px rgba(60, 64, 67, 0.3), 0px 1px 3px 1px rgba(60, 64, 67, 0.15);\n",
              "      fill: #174EA6;\n",
              "    }\n",
              "\n",
              "    [theme=dark] .colab-df-convert {\n",
              "      background-color: #3B4455;\n",
              "      fill: #D2E3FC;\n",
              "    }\n",
              "\n",
              "    [theme=dark] .colab-df-convert:hover {\n",
              "      background-color: #434B5C;\n",
              "      box-shadow: 0px 1px 3px 1px rgba(0, 0, 0, 0.15);\n",
              "      filter: drop-shadow(0px 1px 2px rgba(0, 0, 0, 0.3));\n",
              "      fill: #FFFFFF;\n",
              "    }\n",
              "  </style>\n",
              "\n",
              "      <script>\n",
              "        const buttonEl =\n",
              "          document.querySelector('#df-c2d85057-e229-4cd4-84a1-bda52ef9acaf button.colab-df-convert');\n",
              "        buttonEl.style.display =\n",
              "          google.colab.kernel.accessAllowed ? 'block' : 'none';\n",
              "\n",
              "        async function convertToInteractive(key) {\n",
              "          const element = document.querySelector('#df-c2d85057-e229-4cd4-84a1-bda52ef9acaf');\n",
              "          const dataTable =\n",
              "            await google.colab.kernel.invokeFunction('convertToInteractive',\n",
              "                                                     [key], {});\n",
              "          if (!dataTable) return;\n",
              "\n",
              "          const docLinkHtml = 'Like what you see? Visit the ' +\n",
              "            '<a target=\"_blank\" href=https://colab.research.google.com/notebooks/data_table.ipynb>data table notebook</a>'\n",
              "            + ' to learn more about interactive tables.';\n",
              "          element.innerHTML = '';\n",
              "          dataTable['output_type'] = 'display_data';\n",
              "          await google.colab.output.renderOutput(dataTable, element);\n",
              "          const docLink = document.createElement('div');\n",
              "          docLink.innerHTML = docLinkHtml;\n",
              "          element.appendChild(docLink);\n",
              "        }\n",
              "      </script>\n",
              "    </div>\n",
              "  </div>\n",
              "  "
            ]
          },
          "metadata": {},
          "execution_count": 9
        }
      ]
    },
    {
      "cell_type": "markdown",
      "source": [
        "## 1.3 Pipelines 👷"
      ],
      "metadata": {
        "tags": [],
        "cell_id": "e4adca3e05c741df93087e2a0638ef7d",
        "deepnote_cell_height": 69.86666870117188,
        "deepnote_cell_type": "markdown",
        "id": "8BrlnajLKyO0"
      }
    },
    {
      "cell_type": "markdown",
      "source": [
        "Finalmente *Don Mora* le pregunta si seria posible realizar un pipeline para realizar una segmentación de los clientes con los nuevos datos generados, a lo que usted responde que **sí** y propone la utilización de k-means para la segmentación.\n",
        "\n",
        "A continuación siga los pasos requeridos para obtener la segmentación de clientes."
      ],
      "metadata": {
        "tags": [],
        "cell_id": "20e2c59abf64489d8cabc5c230e86fd2",
        "deepnote_cell_height": 133.46665954589844,
        "deepnote_cell_type": "markdown",
        "id": "6PNILRuAKyO1"
      }
    },
    {
      "cell_type": "markdown",
      "source": [
        "### 1.3.1 Estandarizar Caracteristicas [0.5 puntos]"
      ],
      "metadata": {
        "tags": [],
        "cell_id": "c6162b8b49a045bba12f9b17b51f21bf",
        "deepnote_cell_height": 61.866668701171875,
        "deepnote_cell_type": "markdown",
        "id": "NLp6YT9GKyO1"
      }
    },
    {
      "cell_type": "markdown",
      "source": [
        "Construya una clase llamada ``MinMax()`` utilizando ``BaseEstimator`` y ``TransformerMixin`` para realizar una transformación de cada una de las columnas de un DataFrame utilizando ``ColumnTransformer()`` más tarde (tome como referencia el siguiente [enlace](https://sklearn-template.readthedocs.io/en/latest/user_guide.html#transformer)).\n",
        "\n",
        "\n",
        " Para esto considere que Min-Max escaler queda dada por la ecuación:\n",
        "\n",
        "$$MinMax = \\dfrac{x-min(x)}{max(x) - min(x)}$$\n",
        "\n",
        "Con esto buscamos que los valores que componen a las columnas se muevan en el rango de valores $[0, 1]$."
      ],
      "metadata": {
        "tags": [],
        "cell_id": "94c48775ecb4496d970fbd920f65c126",
        "deepnote_cell_height": 268.70001220703125,
        "deepnote_cell_type": "markdown",
        "id": "yvWSk0fBKyO1"
      }
    },
    {
      "cell_type": "markdown",
      "source": [
        "**Respuesta:**"
      ],
      "metadata": {
        "tags": [],
        "cell_id": "c087d1fa8aa94d7485fe1292bf628660",
        "deepnote_cell_height": 52.26666259765625,
        "deepnote_cell_type": "markdown",
        "id": "QNZm2nQwKyO1"
      }
    },
    {
      "cell_type": "code",
      "source": [
        "class MinMax(BaseEstimator, TransformerMixin):\n",
        "    def __init__(self):\n",
        "        self.max_ = None\n",
        "        self.min_ = None\n",
        "\n",
        "    def fit(self, X, y=None):\n",
        "        self.max_ = X.max()\n",
        "        self.min_ = X.min()\n",
        "        return self\n",
        "    \n",
        "    def transform(self, X):\n",
        "        return (X - self.min_) / (self.max_ - self.min_)"
      ],
      "metadata": {
        "tags": [],
        "cell_id": "07cb4dcf097c4c6baabb9ae2bda25caf",
        "deepnote_cell_height": 83.86666870117188,
        "deepnote_cell_type": "code",
        "id": "Xn_4tMVTKyO1"
      },
      "outputs": [],
      "execution_count": 10
    },
    {
      "cell_type": "markdown",
      "source": [
        "### 1.3.2 `T-SNE` Pipeline [1.0 puntos]"
      ],
      "metadata": {
        "tags": [],
        "cell_id": "b280dbe181ce4d80a6a5b5f563c842e7",
        "deepnote_cell_height": 62.19999694824219,
        "deepnote_cell_type": "markdown",
        "id": "1pX2jjXqKyO2"
      }
    },
    {
      "cell_type": "markdown",
      "source": [
        "Para comenzar introduciéndose en el uso de pipeline, decide probar realizando un pipeline enfocado en la reducción de dimensionalidad y así hacer no decepcionar a Mr. Lepin con la clusterización del modelo. \n",
        "\n",
        "Configure un pipeline utilizando el algoritmo `T-SNE` sobre los datos **LRMFP**, donde, para la realización del pipeline considera los siguientes pasos:\n",
        "\n",
        "1. Como primer paso obtenga las características **LRMFP** desde el DataFrame ``df_retail_II_cleaned.pickle`` utilizando la función ``custom_features`` creada anteriormente, junto a ``FunctionTransformer()``. Considere esto como el primer paso de su pipeline.\n",
        "2. En segundo lugar usando ``ColumnTransformer()`` aplique el MinxMax scaler creado por usted sobre todas las columnas generadas en el paso anterior. \n",
        "3. Finalmente, aplique un último paso donde obtiene las 2 componentes más relevantes utilizando el algoritmo `T-SNE` de sckit-learn.\n",
        "\n",
        "Tras aplicar las transformaciones sobre el dataset **LRMFP**, gráfique las componentes obtenidas en la reducción de dimensionalidad."
      ],
      "metadata": {
        "tags": [],
        "cell_id": "c532e63f2fd541cda5b741d2f24c1ea8",
        "deepnote_cell_height": 413.8666687011719,
        "deepnote_cell_type": "markdown",
        "id": "t4iUQdDZKyO2"
      }
    },
    {
      "cell_type": "markdown",
      "source": [
        "**Respuesta:**"
      ],
      "metadata": {
        "tags": [],
        "cell_id": "a480355952a34b6cb7e72afa764091d6",
        "deepnote_cell_height": 52.26666259765625,
        "deepnote_cell_type": "markdown",
        "id": "3G6LXZ5vKyO2"
      }
    },
    {
      "cell_type": "code",
      "source": [
        "cols = ['Lenght', 'Recency', 'Monetary', 'Frequency', 'Periodicity']\n",
        "\n",
        "pipe = Pipeline([('LMFFSFWr', FunctionTransformer(custom_features)),\n",
        "                 ('minxam', ColumnTransformer([('maxmin', MinMax(), cols)], verbose_feature_names_out=False)),\n",
        "                 ('tesene', TSNE())])"
      ],
      "metadata": {
        "tags": [],
        "cell_id": "1889976b7a4c40c7825752979b577567",
        "deepnote_cell_height": 65.86666870117188,
        "deepnote_cell_type": "code",
        "id": "Y4y_Yj2IKyO2"
      },
      "outputs": [],
      "execution_count": 21
    },
    {
      "cell_type": "code",
      "source": [
        "tsne_feats = pipe.fit_transform(df_retail)"
      ],
      "metadata": {
        "id": "cvLhtq_zlyZI"
      },
      "execution_count": 22,
      "outputs": []
    },
    {
      "cell_type": "code",
      "source": [
        "tsne_feats"
      ],
      "metadata": {
        "colab": {
          "base_uri": "https://localhost:8080/"
        },
        "id": "EdcZ-C2YJu--",
        "outputId": "0b163f6e-3fe6-4e24-f201-618767d1a759"
      },
      "execution_count": 23,
      "outputs": [
        {
          "output_type": "execute_result",
          "data": {
            "text/plain": [
              "array([[ -3.6620371,  16.789476 ],\n",
              "       [ -6.0171304, -39.95658  ],\n",
              "       [-60.176228 , -27.338367 ],\n",
              "       ...,\n",
              "       [ -5.0808816,  46.097076 ],\n",
              "       [  8.882291 ,  16.093258 ],\n",
              "       [  8.667963 , -19.557674 ]], dtype=float32)"
            ]
          },
          "metadata": {},
          "execution_count": 23
        }
      ]
    },
    {
      "cell_type": "code",
      "source": [
        "plt.scatter(tsne_feats[:, 0], tsne_feats[:, 1])\n",
        "plt.xlabel('Componente 1')\n",
        "plt.ylabel('Componente 2')\n",
        "plt.title('Reducción de dimensionalidad utilizando T-SNE')\n",
        "plt.show()"
      ],
      "metadata": {
        "colab": {
          "base_uri": "https://localhost:8080/",
          "height": 472
        },
        "id": "wX8UqPzPFp-r",
        "outputId": "35805f5e-a8ff-437b-a871-0d89a053ca30"
      },
      "execution_count": 24,
      "outputs": [
        {
          "output_type": "display_data",
          "data": {
            "text/plain": [
              "<Figure size 640x480 with 1 Axes>"
            ],
            "image/png": "[encoded data removed]"
          },
          "metadata": {}
        }
      ]
    },
    {
      "cell_type": "markdown",
      "source": [
        "### 1.3.3 Clustering"
      ],
      "metadata": {
        "tags": [],
        "cell_id": "75015b8bec9f4985ae3535276edb9cf6",
        "deepnote_cell_height": 61.866668701171875,
        "deepnote_cell_type": "markdown",
        "id": "QVV7Fh84KyO2"
      }
    },
    {
      "cell_type": "markdown",
      "source": [
        "#### 1.3.3.1 Método del Codo [1 puntos]"
      ],
      "metadata": {
        "tags": [],
        "cell_id": "01eb144ba7b844c98b0f68dc07f1ba38",
        "deepnote_cell_height": 53.866668701171875,
        "deepnote_cell_type": "markdown",
        "id": "_pV5t3DVKyO3"
      }
    },
    {
      "cell_type": "markdown",
      "source": [
        "Utilizando la clase creada para escalamiento, aplique el método del codo para visualizar cual es el número de clusters que mejor se ajustan a los datos. Realice esto utilizando el algoritmo K-means dentro de un pipeline (???) para un $k \\in [1,20]$, donde k representa el número de clusters del k-means. Para la realización de esta sección y la próxima (1.3.3.2), considere los mismos pasos utilizados para el t-sne, pero **permutando el algoritmo de reducción de dimensionalidad por k-means.**\n",
        "\n",
        "A través del grafico obtenido, comente y justifique que valor de k escogería para realizar el k-means."
      ],
      "metadata": {
        "tags": [],
        "cell_id": "de1f59f512af42618d3a5b084f84b460",
        "deepnote_cell_height": 223.06666564941406,
        "deepnote_cell_type": "markdown",
        "id": "dr0RCN0HKyO3"
      }
    },
    {
      "cell_type": "markdown",
      "source": [
        "**Respuesta:**"
      ],
      "metadata": {
        "tags": [],
        "cell_id": "a268dbe1c26b4dccbaa8c976005c9141",
        "deepnote_cell_height": 52.26666259765625,
        "deepnote_cell_type": "markdown",
        "id": "-J9uDL0rKyO3"
      }
    },
    {
      "cell_type": "code",
      "source": [
        "sse = []\n",
        "\n",
        "clusters = list(range(1, 20))\n",
        "for k in clusters:\n",
        "    pipe = Pipeline([('LMFFSFWr', FunctionTransformer(custom_features)),\n",
        "                 ('minxam', ColumnTransformer([('maxmin', MinMax(), cols)], verbose_feature_names_out=False)),\n",
        "                 ('kamins', KMeans(n_clusters=k, n_init='auto'))])\n",
        "    sse.append(pipe.fit(df_retail)['kamins'].inertia_)\n",
        "\n",
        "plt.plot(clusters, sse, marker=\"o\", color='red')\n",
        "plt.grid(True)\n",
        "plt.show()"
      ],
      "metadata": {
        "tags": [],
        "cell_id": "36239002cba54f98a3778e66878b1041",
        "deepnote_cell_height": 65.86666870117188,
        "deepnote_cell_type": "code",
        "id": "fH6sJl-7KyO3",
        "colab": {
          "base_uri": "https://localhost:8080/",
          "height": 430
        },
        "outputId": "fc0820a8-f8fb-484e-a483-fc313b859837"
      },
      "outputs": [
        {
          "output_type": "display_data",
          "data": {
            "text/plain": [
              "<Figure size 640x480 with 1 Axes>"
            ],
            "image/png": "[encoded data removed]"
          },
          "metadata": {}
        }
      ],
      "execution_count": 25
    },
    {
      "cell_type": "code",
      "source": [
        "clusters"
      ],
      "metadata": {
        "colab": {
          "base_uri": "https://localhost:8080/"
        },
        "id": "5nu5p8XpKGo5",
        "outputId": "7b2bb2aa-907f-4dc9-dea7-dfbb900f66ce"
      },
      "execution_count": 27,
      "outputs": [
        {
          "output_type": "execute_result",
          "data": {
            "text/plain": [
              "[1, 2, 3, 4, 5, 6, 7, 8, 9, 10, 11, 12, 13, 14, 15, 16, 17, 18, 19]"
            ]
          },
          "metadata": {},
          "execution_count": 27
        }
      ]
    },
    {
      "cell_type": "markdown",
      "source": [
        "En el gráfico se puede ver que la curva cambia drásticamente su pendiente alrededor de k=4, de modo que se escoge este valor para hacer k-means"
      ],
      "metadata": {
        "id": "m_LSTj261-G6"
      }
    },
    {
      "cell_type": "markdown",
      "source": [
        "#### 1.3.3.2 Segmentación de Clientes con K-Means 🎁 [1 punto]"
      ],
      "metadata": {
        "tags": [],
        "cell_id": "3bb5d86bc1e54cf18a851e71c2c3a3c1",
        "deepnote_cell_height": 53.866668701171875,
        "deepnote_cell_type": "markdown",
        "id": "54pxprKBKyO3"
      }
    },
    {
      "cell_type": "markdown",
      "source": [
        "En base a la elección de k realizada en la sección anterior, utilice este valor escogido y entrene un modelo de K-means utilizando el mismo pipeline de scikit-learn utilizado anteriormente.\n",
        "\n",
        "Una vez ajustado los datos, genere una tabla con los promedios (o medianas) para cada uno de los atributos, agrupando estos por el clúster que pertenecen. ¿Es posible observar agrupaciones coherentes?, ¿Qué tipo de clientes posee el retail?, Justifique su respuesta y no decepcione a Mr. Lepin.\n"
      ],
      "metadata": {
        "tags": [],
        "cell_id": "f8c3b4d105754ccb8a1ce6dfd606a40e",
        "deepnote_cell_height": 200.6666717529297,
        "deepnote_cell_type": "markdown",
        "id": "Nutr45JfKyO3"
      }
    },
    {
      "cell_type": "markdown",
      "source": [
        "**Respuesta:**"
      ],
      "metadata": {
        "tags": [],
        "cell_id": "dbce893901024a828d2b875798e27674",
        "deepnote_cell_height": 52.26666259765625,
        "deepnote_cell_type": "markdown",
        "id": "3oVZrUq_KyO3"
      }
    },
    {
      "cell_type": "code",
      "source": [
        "k = 4  # Valor de k escogido en la sección anterior\n",
        "\n",
        "pipe = Pipeline([('LMFFSFWr', FunctionTransformer(custom_features)),\n",
        "                 ('minxam', ColumnTransformer([('maxmin', MinMax(), cols)], verbose_feature_names_out=False)),\n",
        "                 ('kamins', KMeans(n_clusters=k, n_init='auto'))])\n",
        "\n",
        "kmeans_feats = pipe.fit(df_retail)"
      ],
      "metadata": {
        "tags": [],
        "cell_id": "375d5f6e310c442d82a9c940805fc6d2",
        "deepnote_cell_height": 65.86666870117188,
        "deepnote_cell_type": "code",
        "id": "krGBtcvHKyO8"
      },
      "outputs": [],
      "execution_count": 28
    },
    {
      "cell_type": "code",
      "source": [
        "cluster_stats = pd.DataFrame(pipe.named_steps['kamins'].cluster_centers_, columns=cols)\n",
        "cluster_stats\n"
      ],
      "metadata": {
        "colab": {
          "base_uri": "https://localhost:8080/",
          "height": 175
        },
        "id": "GD_9Ac7vHPXo",
        "outputId": "c717fa11-da35-4a93-83b0-c5a9b3dedf63"
      },
      "execution_count": 38,
      "outputs": [
        {
          "output_type": "execute_result",
          "data": {
            "text/plain": [
              "     Lenght   Recency  Monetary  Frequency  Periodicity\n",
              "0  0.854032  0.061081  0.000329   0.037545     0.125430\n",
              "1  0.485177  0.181100  0.000315   0.015707     0.129015\n",
              "2  0.045807  0.682683  0.002482   0.004552     0.016447\n",
              "3  0.046305  0.136349  0.000740   0.007122     0.014738"
            ],
            "text/html": [
              "\n",
              "  <div id=\"df-bcc167fe-7805-4482-ac03-6f72eae2c17a\">\n",
              "    <div class=\"colab-df-container\">\n",
              "      <div>\n",
              "<style scoped>\n",
              "    .dataframe tbody tr th:only-of-type {\n",
              "        vertical-align: middle;\n",
              "    }\n",
              "\n",
              "    .dataframe tbody tr th {\n",
              "        vertical-align: top;\n",
              "    }\n",
              "\n",
              "    .dataframe thead th {\n",
              "        text-align: right;\n",
              "    }\n",
              "</style>\n",
              "<table border=\"1\" class=\"dataframe\">\n",
              "  <thead>\n",
              "    <tr style=\"text-align: right;\">\n",
              "      <th></th>\n",
              "      <th>Lenght</th>\n",
              "      <th>Recency</th>\n",
              "      <th>Monetary</th>\n",
              "      <th>Frequency</th>\n",
              "      <th>Periodicity</th>\n",
              "    </tr>\n",
              "  </thead>\n",
              "  <tbody>\n",
              "    <tr>\n",
              "      <th>0</th>\n",
              "      <td>0.854032</td>\n",
              "      <td>0.061081</td>\n",
              "      <td>0.000329</td>\n",
              "      <td>0.037545</td>\n",
              "      <td>0.125430</td>\n",
              "    </tr>\n",
              "    <tr>\n",
              "      <th>1</th>\n",
              "      <td>0.485177</td>\n",
              "      <td>0.181100</td>\n",
              "      <td>0.000315</td>\n",
              "      <td>0.015707</td>\n",
              "      <td>0.129015</td>\n",
              "    </tr>\n",
              "    <tr>\n",
              "      <th>2</th>\n",
              "      <td>0.045807</td>\n",
              "      <td>0.682683</td>\n",
              "      <td>0.002482</td>\n",
              "      <td>0.004552</td>\n",
              "      <td>0.016447</td>\n",
              "    </tr>\n",
              "    <tr>\n",
              "      <th>3</th>\n",
              "      <td>0.046305</td>\n",
              "      <td>0.136349</td>\n",
              "      <td>0.000740</td>\n",
              "      <td>0.007122</td>\n",
              "      <td>0.014738</td>\n",
              "    </tr>\n",
              "  </tbody>\n",
              "</table>\n",
              "</div>\n",
              "      <button class=\"colab-df-convert\" onclick=\"convertToInteractive('df-bcc167fe-7805-4482-ac03-6f72eae2c17a')\"\n",
              "              title=\"Convert this dataframe to an interactive table.\"\n",
              "              style=\"display:none;\">\n",
              "        \n",
              "  <svg xmlns=\"http://www.w3.org/2000/svg\" height=\"24px\"viewBox=\"0 0 24 24\"\n",
              "       width=\"24px\">\n",
              "    <path d=\"M0 0h24v24H0V0z\" fill=\"none\"/>\n",
              "    <path d=\"M18.56 5.44l.94 2.06.94-2.06 2.06-.94-2.06-.94-.94-2.06-.94 2.06-2.06.94zm-11 1L8.5 8.5l.94-2.06 2.06-.94-2.06-.94L8.5 2.5l-.94 2.06-2.06.94zm10 10l.94 2.06.94-2.06 2.06-.94-2.06-.94-.94-2.06-.94 2.06-2.06.94z\"/><path d=\"M17.41 7.96l-1.37-1.37c-.4-.4-.92-.59-1.43-.59-.52 0-1.04.2-1.43.59L10.3 9.45l-7.72 7.72c-.78.78-.78 2.05 0 2.83L4 21.41c.39.39.9.59 1.41.59.51 0 1.02-.2 1.41-.59l7.78-7.78 2.81-2.81c.8-.78.8-2.07 0-2.86zM5.41 20L4 18.59l7.72-7.72 1.47 1.35L5.41 20z\"/>\n",
              "  </svg>\n",
              "      </button>\n",
              "      \n",
              "  <style>\n",
              "    .colab-df-container {\n",
              "      display:flex;\n",
              "      flex-wrap:wrap;\n",
              "      gap: 12px;\n",
              "    }\n",
              "\n",
              "    .colab-df-convert {\n",
              "      background-color: #E8F0FE;\n",
              "      border: none;\n",
              "      border-radius: 50%;\n",
              "      cursor: pointer;\n",
              "      display: none;\n",
              "      fill: #1967D2;\n",
              "      height: 32px;\n",
              "      padding: 0 0 0 0;\n",
              "      width: 32px;\n",
              "    }\n",
              "\n",
              "    .colab-df-convert:hover {\n",
              "      background-color: #E2EBFA;\n",
              "      box-shadow: 0px 1px 2px rgba(60, 64, 67, 0.3), 0px 1px 3px 1px rgba(60, 64, 67, 0.15);\n",
              "      fill: #174EA6;\n",
              "    }\n",
              "\n",
              "    [theme=dark] .colab-df-convert {\n",
              "      background-color: #3B4455;\n",
              "      fill: #D2E3FC;\n",
              "    }\n",
              "\n",
              "    [theme=dark] .colab-df-convert:hover {\n",
              "      background-color: #434B5C;\n",
              "      box-shadow: 0px 1px 3px 1px rgba(0, 0, 0, 0.15);\n",
              "      filter: drop-shadow(0px 1px 2px rgba(0, 0, 0, 0.3));\n",
              "      fill: #FFFFFF;\n",
              "    }\n",
              "  </style>\n",
              "\n",
              "      <script>\n",
              "        const buttonEl =\n",
              "          document.querySelector('#df-bcc167fe-7805-4482-ac03-6f72eae2c17a button.colab-df-convert');\n",
              "        buttonEl.style.display =\n",
              "          google.colab.kernel.accessAllowed ? 'block' : 'none';\n",
              "\n",
              "        async function convertToInteractive(key) {\n",
              "          const element = document.querySelector('#df-bcc167fe-7805-4482-ac03-6f72eae2c17a');\n",
              "          const dataTable =\n",
              "            await google.colab.kernel.invokeFunction('convertToInteractive',\n",
              "                                                     [key], {});\n",
              "          if (!dataTable) return;\n",
              "\n",
              "          const docLinkHtml = 'Like what you see? Visit the ' +\n",
              "            '<a target=\"_blank\" href=https://colab.research.google.com/notebooks/data_table.ipynb>data table notebook</a>'\n",
              "            + ' to learn more about interactive tables.';\n",
              "          element.innerHTML = '';\n",
              "          dataTable['output_type'] = 'display_data';\n",
              "          await google.colab.output.renderOutput(dataTable, element);\n",
              "          const docLink = document.createElement('div');\n",
              "          docLink.innerHTML = docLinkHtml;\n",
              "          element.appendChild(docLink);\n",
              "        }\n",
              "      </script>\n",
              "    </div>\n",
              "  </div>\n",
              "  "
            ]
          },
          "metadata": {},
          "execution_count": 38
        }
      ]
    },
    {
      "cell_type": "markdown",
      "source": [
        "- **Length (L)**: Intervalo de tiempo, en días, entre la primera y la última visita del cliente. Mientras mas grande sea el valor, mas fiel es el cliente.\n",
        "\n",
        "- **Recency (R)**: Indica hace cuanto tiempo el cliente realizo su ultima compra. Notar que para este caso, mientras mas grande es el valor, menos interes posee el usuario para repetir una compra en uno de los locales.\n",
        "\n",
        "- **Monetary (M)**: El término \"monetario\" se refiere a la cantidad media de dinero gastada por cada visita del cliente durante el período de observación y refleja la contribución del cliente a los ingresos de la empresa.\n",
        "\n",
        "- **Frequency (F)**: Se refiere al número total de visitas del cliente durante el periodo de observación. Cuanto mayor sea la frecuencia, mayor será la fidelidad del cliente. \n",
        "\n",
        "- **Periodicity (P)**: Representa si los clientes visitan las tiendas con regularidad."
      ],
      "metadata": {
        "id": "DEqIy-4FOOMH"
      }
    },
    {
      "cell_type": "markdown",
      "source": [
        "Efectivamente se observan agrupaciones coherentes en los resultados. Los clientes se agrupan en diferentes clusters en función de sus comportamientos de compra y relación con el retail.\n",
        "\n",
        "En el Cluster 0, tenemos clientes que muestran una relación a largo plazo con el retail, su ultima compra es de las mas recientes en promedio y realizan compras con buena frecuencia y periodicidad. Sin embargo, no gastan una gran  cantidad de dinero en cada visita. Podríamos clasificar a estos clientes como \"Clientes de largo plazo pero de Bajo Gasto\".\n",
        "\n",
        "En el Cluster 1, encontramos clientes con un valor más bajo en la característica de \"Length\", lo que indica que tienen una relación de menor plazo con el retail en comparación al Cluster 0. Además, muestran un valor mas bajo en las características de \"Monetary\" y \"Frequency\", lo que sugiere que gastan menos dinero en cada visita y tienen una frecuencia de compra moderada. Sin embargo, tienen una mayor periodicidad. Podríamos clasificar a estos clientes como \"Clientes periodicos con Bajo Gasto\".\n",
        "\n",
        "En el Cluster 2, los clientes tienen el valor más bajo en la característica de \"Length\" y \"Frecuency\", lo que indica una relación a corto plazo con el retail y de pocas visitas. Sin embargo, tienen el valor mas alto en las características de \"Monetary\", lo que sugiere un gasto más alto en cada visita. Podríamos clasificar a estos clientes como \"Clientes de corto Plazo y alto gasto\".\n",
        "\n",
        "En el Cluster 3, tenemos clientes con un valor relativamente bajo en las características de \"Length\" y \"Recency\", lo que indica que tienen una relación a corto plazo con el retail pero un buen interés de realizar otra compra. También gastan buena cantidad de dinero en cada visita y tienen una frecuencia de compra baja. Además, muestran un comportamiento de visita menos periodico. Podríamos clasificar a estos clientes como \"Clientes de corto Plazo con alto Gasto y Comportamiento de Visita Irregular\"."
      ],
      "metadata": {
        "id": "AGDbMhvJHtJj"
      }
    },
    {
      "cell_type": "markdown",
      "source": [
        "**Respuesta Esperada:**\n",
        "\n",
        "|         | Length  | Recency   | Frequency | Monetary | Periodicity |       |\n",
        "|---------|---------|-----------|----------|-------------|-------|-------|\n",
        "| Cluster |         |           |          |             |       |       |\n",
        "|    0    |   258.8 |      45.2 |     76.1 |      1107.7 | 107.6 |   449 |\n",
        "|    1    |    76.1 |     217.6 |     45.5 |       791.7 |  14.1 |   466 |\n",
        "|    2    |   368.5 |       4.8 |   2715.0 |    226621.6 |   4.2 |     4 |\n",
        "|    3    |    85.3 |      45.7 |     65.8 |      1047.0 |  10.5 |   987 |\n",
        "|    4    |   347.2 |      15.9 |   1658.0 |     35829.3 |   8.0 |    25 |\n",
        "|    5    |   298.0 |      29.8 |    183.8 |      3639.9 |  32.0 |  1188 |"
      ],
      "metadata": {
        "tags": [],
        "cell_id": "18e50ee0240543d692bcde6d9c29fe73",
        "deepnote_cell_height": 261.4666748046875,
        "deepnote_cell_type": "markdown",
        "id": "mbz9m__iKyO9"
      }
    },
    {
      "cell_type": "markdown",
      "source": [
        "#### 1.3.3.3 Plot de K-Means 📈 [0.5 puntos]\n",
        "\n"
      ],
      "metadata": {
        "tags": [],
        "cell_id": "f79d1fa6b1a64b6f97bffc62b037a663",
        "deepnote_cell_height": 53.866668701171875,
        "deepnote_cell_type": "markdown",
        "id": "l329X03bKyO9"
      }
    },
    {
      "cell_type": "markdown",
      "source": [
        "Por último, Mr. Lepin, impaciente de no entender lo que usted intenta explicarle, le solicita que por favor muestre algún resultado \"visual\" de los grupos encontrados.\n",
        "\n",
        "Para esto, grafique nuevamente las características encontradas usando `T-SNE` (no calcule de nuevo, simplemente utilice las proyecciones encontradas) y agregue las labels calculadas con kmeans como el argumento `color`.   \n",
        "\n",
        "Comente: ¿Se separan bien los distintos clusters en la visualización?\n"
      ],
      "metadata": {
        "tags": [],
        "cell_id": "2d0348435e814f16b8957dfbc6384a88",
        "owner_user_id": "d50c3174-babb-4861-9c71-7e3af66458b8",
        "deepnote_cell_height": 192.26666259765625,
        "deepnote_cell_type": "markdown",
        "id": "cu8C2bjEKyO9"
      }
    },
    {
      "cell_type": "markdown",
      "source": [
        "**Respuesta:**"
      ],
      "metadata": {
        "tags": [],
        "cell_id": "e805388b96c04ea8a06a262229c2f799",
        "deepnote_cell_height": 52.26666259765625,
        "deepnote_cell_type": "markdown",
        "id": "BgT9kC7CKyO9"
      }
    },
    {
      "cell_type": "code",
      "source": [
        "labels = pipe.named_steps['kamins'].labels_\n",
        "\n",
        "plt.scatter(tsne_feats[:, 0], tsne_feats[:, 1], c=labels)\n",
        "plt.xlabel('Componente 1')\n",
        "plt.ylabel('Componente 2')\n",
        "plt.title('Proyección T-SNE con etiquetas de K-Means')\n",
        "plt.colorbar(label='Cluster')\n",
        "plt.show()\n"
      ],
      "metadata": {
        "tags": [],
        "cell_id": "9e2d26de81ed4a729e25c6c5361310e1",
        "deepnote_cell_height": 65.86666870117188,
        "deepnote_cell_type": "code",
        "id": "ytHfHdNuKyO9",
        "colab": {
          "base_uri": "https://localhost:8080/",
          "height": 472
        },
        "outputId": "4eaa17e4-acc9-46ff-8c95-6b87db9cc00b"
      },
      "outputs": [
        {
          "output_type": "display_data",
          "data": {
            "text/plain": [
              "<Figure size 640x480 with 2 Axes>"
            ],
            "image/png": "[encoded data removed]"
          },
          "metadata": {}
        }
      ],
      "execution_count": 40
    },
    {
      "cell_type": "markdown",
      "source": [
        "Efectivamente los clusters se agrupan reativamente bien, sin embargo no tiene una muy buena separación entre ellos a pesar de practicamente no traslaparse, además, la forma de los clusters es \"irregular\"."
      ],
      "metadata": {
        "id": "DwXZhoKxRrv0"
      }
    },
    {
      "cell_type": "markdown",
      "source": [
        "# Conclusión\n",
        "Eso ha sido todo para el lab de hoy, recuerden que el laboratorio tiene un plazo de entrega de una semana. Cualquier duda del laboratorio, no duden en contactarnos por correo, Discord o U-cursos.\n",
        "\n",
        "![Gracias Totales!](https://i.pinimg.com/originals/65/ae/27/65ae270df87c3c4adcea997e48f60852.gif \"bruno\")\n"
      ],
      "metadata": {
        "id": "Rg4ZMq8ezAH6",
        "cell_id": "94721075d5ff44bd83601c871797ae2a",
        "deepnote_cell_height": 514.4666748046875,
        "deepnote_cell_type": "markdown"
      }
    },
    {
      "cell_type": "markdown",
      "source": [
        "<br>\n",
        "<center>\n",
        "<img src=\"https://i.kym-cdn.com/photos/images/original/001/194/195/b18.png\" width=100 height=50 />\n",
        "</center>\n",
        "<br>"
      ],
      "metadata": {
        "id": "wCL1lACBzAH7",
        "cell_id": "7e31a91f8cb744cabd0ed0287ac5257e",
        "deepnote_cell_height": 171.28334045410156,
        "deepnote_cell_type": "markdown"
      }
    },
    {
      "cell_type": "markdown",
      "source": [
        "<a style='text-decoration:none;line-height:16px;display:flex;color:#5B5B62;padding:10px;justify-content:end;' href='https://deepnote.com?utm_source=created-in-deepnote-cell&projectId=87110296-876e-426f-b91d-aaf681223468' target=\"_blank\">\n",
        "<img alt='Created in deepnote.com' style='display:inline;max-height:16px;margin:0px;margin-right:7.5px;' src='data:image/svg+xml;base64,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' > </img>\n",
        "Created in <span style='font-weight:600;margin-left:4px;'>Deepnote</span></a>"
      ],
      "metadata": {
        "created_in_deepnote_cell": true,
        "deepnote_cell_type": "markdown",
        "id": "4NyQdXcfKyO-"
      }
    }
  ],
  "nbformat": 4,
  "nbformat_minor": 0,
  "metadata": {
    "toc": {
      "sideBar": true,
      "nav_menu": {},
      "toc_cell": false,
      "title_cell": "Tabla de Contenidos",
      "toc_position": {
        "top": "150px",
        "left": "10px",
        "width": "241.867px",
        "height": "calc(100% - 180px)"
      },
      "skip_h1_title": true,
      "title_sidebar": "Contenidos",
      "base_numbering": 1,
      "number_sections": true,
      "toc_window_display": true,
      "toc_section_display": true
    },
    "colab": {
      "provenance": []
    },
    "deepnote": {},
    "kernelspec": {
      "name": "python3",
      "language": "python",
      "display_name": "Python 3"
    },
    "varInspector": {
      "cols": {
        "lenVar": 40,
        "lenName": 16,
        "lenType": 16
      },
      "kernels_config": {
        "r": {
          "library": "var_list.r",
          "varRefreshCmd": "cat(var_dic_list()) ",
          "delete_cmd_prefix": "rm(",
          "delete_cmd_postfix": ") "
        },
        "python": {
          "library": "var_list.py",
          "varRefreshCmd": "print(var_dic_list())",
          "delete_cmd_prefix": "del ",
          "delete_cmd_postfix": ""
        }
      },
      "window_display": false,
      "types_to_exclude": [
        "module",
        "function",
        "builtin_function_or_method",
        "instance",
        "_Feature"
      ]
    },
    "language_info": {
      "name": "python",
      "version": "3.8.3",
      "mimetype": "text/x-python",
      "file_extension": ".py",
      "pygments_lexer": "ipython3",
      "codemirror_mode": {
        "name": "ipython",
        "version": 3
      },
      "nbconvert_exporter": "python"
    },
    "deepnote_notebook_id": "33c253a4f84d40a091bd5023e95abb64",
    "deepnote_execution_queue": []
  }
}